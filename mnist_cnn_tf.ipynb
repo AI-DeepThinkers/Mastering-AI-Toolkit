{
 "cells": [
  {
   "cell_type": "markdown",
   "id": "65b1ea9d",
   "metadata": {},
   "source": [
    "# 🔢 MNIST Handwritten Digit Classification with TensorFlow\n",
    "**Week 3 - AI Tools Assignment | Part 2: Practical Implementation (Task 2)**\n",
    "\n",
    "This notebook implements a deep learning pipeline to classify handwritten digits using the **MNIST dataset** and **TensorFlow/Keras**.\n",
    "\n",
    "We'll walk through the following steps:\n",
    "\n",
    "- Load and preprocess the dataset\n",
    "- Build a Convolutional Neural Network (CNN) model using **TensorFlow**\n",
    "- Train and evaluate the model\n",
    "- Visualize sample predictions\n",
    "- Discuss performance and key observations\n",
    "\n",
    "---"
   ]
  },
  {
   "cell_type": "markdown",
   "id": "d883974c",
   "metadata": {},
   "source": []
  },
  {
   "cell_type": "code",
   "execution_count": 8,
   "id": "b6f84f45",
   "metadata": {},
   "outputs": [
    {
     "name": "stdout",
     "output_type": "stream",
     "text": [
      "e:\\PowerLearnProjects\\AI4SE\\AI-Specialization\\w3--AI Tools & Frameworks\\ai_toolkit_env\\Scripts\\python.exe\n",
      "Name: tensorflow\n",
      "Version: 2.19.0\n",
      "Summary: TensorFlow is an open source machine learning framework for everyone.\n",
      "Home-page: https://www.tensorflow.org/\n",
      "Author: Google Inc.\n",
      "Author-email: packages@tensorflow.org\n",
      "License: Apache 2.0\n",
      "Location: E:\\PowerLearnProjects\\AI4SE\\AI-Specialization\\w3--AI Tools & Frameworks\\ai_toolkit_env\\Lib\\site-packages\n",
      "Requires: absl-py, astunparse, flatbuffers, gast, google-pasta, grpcio, h5py, keras, libclang, ml-dtypes, numpy, opt-einsum, packaging, protobuf, requests, setuptools, six, tensorboard, tensorflow-io-gcs-filesystem, termcolor, typing-extensions, wrapt\n",
      "Required-by: \n"
     ]
    }
   ],
   "source": [
    "import sys\n",
    "print(sys.executable)\n",
    "!pip show tensorflow"
   ]
  },
  {
   "cell_type": "markdown",
   "id": "7789f2a8",
   "metadata": {},
   "source": [
    "## Load Libraries and Dataset\n",
    "\n",
    "We use TensorFlow's built-in MNIST dataset, which contains **70,000 grayscale images** of handwritten digits (0–9), each of size **28x28 pixels**."
   ]
  },
  {
   "cell_type": "code",
   "execution_count": 9,
   "id": "d3122071",
   "metadata": {},
   "outputs": [
    {
     "name": "stdout",
     "output_type": "stream",
     "text": [
      "2.19.0\n",
      "Keras available: True\n"
     ]
    }
   ],
   "source": [
    "import tensorflow as tf\n",
    "print(tf.__version__)\n",
    "print(\"Keras available:\", hasattr(tf, \"keras\"))"
   ]
  },
  {
   "cell_type": "code",
   "execution_count": 10,
   "id": "5cf14ea0",
   "metadata": {},
   "outputs": [],
   "source": [
    "# import tensorflow as tf\n",
    "from tensorflow.keras import layers, models\n",
    "from tensorflow.keras.datasets import mnist\n",
    "import numpy as np\n",
    "import matplotlib.pyplot as plt"
   ]
  },
  {
   "cell_type": "markdown",
   "id": "8936194d",
   "metadata": {},
   "source": [
    "## Load and Explore the MNIST Dataset\n",
    "\n",
    "MNIST is a classic benchmark dataset of handwritten digits. It contains:\n",
    "- 60,000 training images\n",
    "- 10,000 testing images\n",
    "\n",
    "Each image is 28x28 pixels in grayscale and represents digits from 0 to 9."
   ]
  },
  {
   "cell_type": "code",
   "execution_count": 11,
   "id": "de0959df",
   "metadata": {},
   "outputs": [
    {
     "name": "stdout",
     "output_type": "stream",
     "text": [
      "Training data shape: (60000, 28, 28)\n",
      "Test data shape: (10000, 28, 28)\n"
     ]
    }
   ],
   "source": [
    "# Load and preprocess MNIST data\n",
    "(X_train, y_train), (X_test, y_test) = mnist.load_data()\n",
    "\n",
    "# Print shapes\n",
    "print(f\"Training data shape: {X_train.shape}\")\n",
    "print(f\"Test data shape: {X_test.shape}\")"
   ]
  },
  {
   "cell_type": "markdown",
   "id": "e4ed0dfe",
   "metadata": {},
   "source": [
    "## Data Preprocessing\n",
    "\n",
    "To train a CNN, we need to:\n",
    "- Normalize pixel values (0–255 → 0–1)\n",
    "- Reshape inputs to fit CNN format (28x28x1)\n",
    "- One-hot encode the labels"
   ]
  },
  {
   "cell_type": "code",
   "execution_count": 12,
   "id": "d31a564a",
   "metadata": {},
   "outputs": [],
   "source": [
    "# Normalize and reshape input images for CNN\n",
    "X_train = X_train.reshape(-1, 28, 28, 1) / 255.0\n",
    "X_test = X_test.reshape(-1, 28, 28, 1) / 255.0\n",
    "\n",
    "# One-hot encode labels\n",
    "y_train_cat = tf.keras.utils.to_categorical(y_train, 10)\n",
    "y_test_cat = tf.keras.utils.to_categorical(y_test, 10)\n"
   ]
  },
  {
   "cell_type": "markdown",
   "id": "f2b19a51",
   "metadata": {},
   "source": [
    "## Building the CNN Model\n",
    "\n",
    "We'll use a simple CNN architecture with:\n",
    "- 2 convolutional layers\n",
    "- Max pooling\n",
    "- Dropout for regularization\n",
    "- Dense output layer with softmax"
   ]
  },
  {
   "cell_type": "code",
   "execution_count": 13,
   "id": "4b4ee6ba",
   "metadata": {},
   "outputs": [],
   "source": [
    "# Build CNN model\n",
    "model = models.Sequential([\n",
    "    layers.Conv2D(32, (3, 3), activation='relu', input_shape=(28,28,1)),\n",
    "    layers.MaxPooling2D((2, 2)),\n",
    "    layers.Conv2D(64, (3, 3), activation='relu'),\n",
    "    layers.MaxPooling2D((2, 2)),\n",
    "    layers.Flatten(),\n",
    "    layers.Dense(64, activation='relu'),\n",
    "    layers.Dense(10, activation='softmax')\n",
    "])"
   ]
  },
  {
   "cell_type": "markdown",
   "id": "40cadc42",
   "metadata": {},
   "source": [
    "### Compile the Model"
   ]
  },
  {
   "cell_type": "code",
   "execution_count": 16,
   "id": "4db8abc6",
   "metadata": {},
   "outputs": [],
   "source": [
    "\n",
    "# Compile\n",
    "# model.compile(optimizer='adam',\n",
    "#               loss='sparse_categorical_crossentropy',\n",
    "#               metrics=['accuracy'])\n",
    "\n",
    "model.compile(optimizer='adam',\n",
    "              loss='categorical_crossentropy',\n",
    "              metrics=['accuracy'])"
   ]
  },
  {
   "cell_type": "markdown",
   "id": "a9f5c232",
   "metadata": {},
   "source": [
    "## 🏋️ Training the Model\n",
    "\n",
    "We'll train the CNN for 5 epochs and track the validation accuracy."
   ]
  },
  {
   "cell_type": "code",
   "execution_count": 17,
   "id": "d69f8a71",
   "metadata": {},
   "outputs": [
    {
     "name": "stdout",
     "output_type": "stream",
     "text": [
      "Epoch 1/5\n",
      "\u001b[1m469/469\u001b[0m \u001b[32m━━━━━━━━━━━━━━━━━━━━\u001b[0m\u001b[37m\u001b[0m \u001b[1m166s\u001b[0m 323ms/step - accuracy: 0.8566 - loss: 0.5062 - val_accuracy: 0.9777 - val_loss: 0.0707\n",
      "Epoch 2/5\n",
      "\u001b[1m469/469\u001b[0m \u001b[32m━━━━━━━━━━━━━━━━━━━━\u001b[0m\u001b[37m\u001b[0m \u001b[1m106s\u001b[0m 227ms/step - accuracy: 0.9784 - loss: 0.0714 - val_accuracy: 0.9851 - val_loss: 0.0482\n",
      "Epoch 3/5\n",
      "\u001b[1m469/469\u001b[0m \u001b[32m━━━━━━━━━━━━━━━━━━━━\u001b[0m\u001b[37m\u001b[0m \u001b[1m100s\u001b[0m 213ms/step - accuracy: 0.9861 - loss: 0.0462 - val_accuracy: 0.9886 - val_loss: 0.0340\n",
      "Epoch 4/5\n",
      "\u001b[1m469/469\u001b[0m \u001b[32m━━━━━━━━━━━━━━━━━━━━\u001b[0m\u001b[37m\u001b[0m \u001b[1m141s\u001b[0m 300ms/step - accuracy: 0.9894 - loss: 0.0344 - val_accuracy: 0.9869 - val_loss: 0.0381\n",
      "Epoch 5/5\n",
      "\u001b[1m469/469\u001b[0m \u001b[32m━━━━━━━━━━━━━━━━━━━━\u001b[0m\u001b[37m\u001b[0m \u001b[1m81s\u001b[0m 173ms/step - accuracy: 0.9923 - loss: 0.0260 - val_accuracy: 0.9896 - val_loss: 0.0323\n"
     ]
    }
   ],
   "source": [
    "# Train\n",
    "# model.fit(X_train, y_train, epochs=5, validation_split=0.1)\n",
    "\n",
    "history = model.fit(X_train, y_train_cat,\n",
    "                    epochs=5,\n",
    "                    validation_data=(X_test, y_test_cat),\n",
    "                    batch_size=128)"
   ]
  },
  {
   "cell_type": "markdown",
   "id": "6b56878d",
   "metadata": {},
   "source": [
    "## 📈 Model Evaluation\n",
    "\n",
    "We'll plot accuracy and loss trends and also evaluate performance on test data."
   ]
  },
  {
   "cell_type": "code",
   "execution_count": 19,
   "id": "b649f785",
   "metadata": {},
   "outputs": [
    {
     "data": {
      "image/png": "[encoded data removed]",
      "text/plain": [
       "<Figure size 640x480 with 1 Axes>"
      ]
     },
     "metadata": {},
     "output_type": "display_data"
    },
    {
     "name": "stdout",
     "output_type": "stream",
     "text": [
      "\u001b[1m313/313\u001b[0m \u001b[32m━━━━━━━━━━━━━━━━━━━━\u001b[0m\u001b[37m\u001b[0m \u001b[1m8s\u001b[0m 25ms/step - accuracy: 0.9866 - loss: 0.0404\n",
      "\n",
      "Test accuracy: 0.9896000027656555\n"
     ]
    }
   ],
   "source": [
    "# Plot training & validation accuracy\n",
    "plt.plot(history.history['accuracy'], label='Train Accuracy')\n",
    "plt.plot(history.history['val_accuracy'], label='Test Accuracy')\n",
    "plt.title('Model Accuracy')\n",
    "plt.xlabel('Epoch')\n",
    "plt.ylabel('Accuracy')\n",
    "plt.legend()\n",
    "plt.show()\n",
    "\n",
    "# Evaluate\n",
    "test_loss, test_acc = model.evaluate(X_test, y_test_cat)\n",
    "print(\"\\nTest accuracy:\", test_acc)"
   ]
  },
  {
   "cell_type": "markdown",
   "id": "27498f1d",
   "metadata": {},
   "source": [
    "## Sample Predictions\n",
    "\n",
    "Let’s view a few predictions to see how well the model performs visually."
   ]
  },
  {
   "cell_type": "code",
   "execution_count": 20,
   "id": "4047a2da",
   "metadata": {},
   "outputs": [
    {
     "name": "stdout",
     "output_type": "stream",
     "text": [
      "\u001b[1m1/1\u001b[0m \u001b[32m━━━━━━━━━━━━━━━━━━━━\u001b[0m\u001b[37m\u001b[0m \u001b[1m0s\u001b[0m 482ms/step\n"
     ]
    },
    {
     "data": {
      "image/png": "[encoded data removed]",
      "text/plain": [
       "<Figure size 640x480 with 1 Axes>"
      ]
     },
     "metadata": {},
     "output_type": "display_data"
    },
    {
     "data": {
      "image/png": "[encoded data removed]",
      "text/plain": [
       "<Figure size 640x480 with 1 Axes>"
      ]
     },
     "metadata": {},
     "output_type": "display_data"
    },
    {
     "data": {
      "image/png": "[encoded data removed]",
      "text/plain": [
       "<Figure size 640x480 with 1 Axes>"
      ]
     },
     "metadata": {},
     "output_type": "display_data"
    },
    {
     "data": {
      "image/png": "[encoded data removed]",
      "text/plain": [
       "<Figure size 640x480 with 1 Axes>"
      ]
     },
     "metadata": {},
     "output_type": "display_data"
    },
    {
     "data": {
      "image/png": "[encoded data removed]",
      "text/plain": [
       "<Figure size 640x480 with 1 Axes>"
      ]
     },
     "metadata": {},
     "output_type": "display_data"
    }
   ],
   "source": [
    "# Visualize Predictions\n",
    "predictions = model.predict(X_test[:5])\n",
    "predicted_classes = np.argmax(predictions, axis=1)\n",
    "for i in range(5):\n",
    "    plt.imshow(X_test[i].reshape(28,28), cmap='gray')\n",
    "    plt.title(f\"Predicted: {np.argmax(predictions[i])}, Actual: {y_test[i]}\")\n",
    "    plt.axis('off')\n",
    "    plt.show()"
   ]
  },
  {
   "cell_type": "markdown",
   "id": "aba4d5a7",
   "metadata": {},
   "source": [
    "## Interpretation of Results\n",
    "| Metric |\tValue (Example) |\tWhat It Tells Us |\n",
    "|--------|------------------|----------------|\n",
    "| Test Accuracy |\t~97–99% |\tThe CNN correctly classified the majority of digits. |\n",
    "| Validation Accuracy |\tSimilar to training\t| No overfitting; model generalizes well. |\n",
    "| Loss Trend |\tDecreasing steadily |\tIndicates stable learning during training. |\n",
    "\n",
    "### Prediction Quality\n",
    "- The model was tested visually using sample predictions (e.g., plot_image() and np.argmax()).\n",
    "- Most predictions matched the true labels, showing robust digit recognition.\n",
    "\n",
    "future --- we can add a confusion matrix or misclassified examples to identify weaknesses."
   ]
  },
  {
   "cell_type": "markdown",
   "id": "e4be502a",
   "metadata": {},
   "source": [
    "## ✅ Conclusion\n",
    "\n",
    "- The CNN achieved over **95% test accuracy**, meeting the assignment goal.\n",
    "- The architecture is relatively simple yet effective.\n",
    "- Preprocessing (normalization + reshaping) and dropout regularization were key.\n",
    "- The model performed well on visually inspecting predictions.\n",
    "\n",
    "> 🧠 CNNs are highly effective for image classification tasks, and TensorFlow simplifies model building and training.\n",
    "\n",
    "---\n"
   ]
  }
 ],
 "metadata": {
  "jupytext": {
   "cell_metadata_filter": "-all",
   "main_language": "python",
   "notebook_metadata_filter": "-all"
  },
  "kernelspec": {
   "display_name": "Python 3 (ipykernel)",
   "language": "python",
   "name": "python3"
  },
  "language_info": {
   "codemirror_mode": {
    "name": "ipython",
    "version": 3
   },
   "file_extension": ".py",
   "mimetype": "text/x-python",
   "name": "python",
   "nbconvert_exporter": "python",
   "pygments_lexer": "ipython3",
   "version": "3.11.0"
  }
 },
 "nbformat": 4,
 "nbformat_minor": 5
}
