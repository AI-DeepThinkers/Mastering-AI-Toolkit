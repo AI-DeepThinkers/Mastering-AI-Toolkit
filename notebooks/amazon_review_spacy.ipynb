{
 "cells": [
  {
   "cell_type": "markdown",
   "id": "53c092ba",
   "metadata": {},
   "source": [
    "# ✨ Text Review Analysis with spaCy & TextBlob\n",
    "**Week 3 - AI Tools Assignment | Part 2: Practical Implementation (Task 3)**\n",
    "\n",
    "In this notebook, \n",
    "\n",
    "we'll analyze a customer review using two popular NLP libraries:\n",
    "- spaCy: For Named Entity Recognition (NER)\n",
    "- TextBlob: For Sentiment Analysis\n",
    "\n",
    "We'll go through the following steps:\n",
    "- Load and inspect the review text\n",
    "- Extract named entities (NER)\n",
    "- Analyze the sentiment (polarity & subjectivity)\n",
    "- Interpret and summarize the results\n",
    "\n",
    "---"
   ]
  },
  {
   "cell_type": "markdown",
   "id": "75114497",
   "metadata": {},
   "source": [
    "## Load Libraries and Review Text\n",
    "We begin by importing the required NLP libraries and loading a sample review for analysis.\n",
    "\n",
    "> 💡 You can later extend this to work with multiple reviews or integrate it into a web app."
   ]
  },
  {
   "cell_type": "code",
   "execution_count": 48,
   "id": "e1be33b2",
   "metadata": {},
   "outputs": [],
   "source": [
    "import spacy\n",
    "from textblob import TextBlob"
   ]
  },
  {
   "cell_type": "code",
   "execution_count": 49,
   "id": "d4edb4b1",
   "metadata": {},
   "outputs": [],
   "source": [
    "# Load spaCy model\n",
    "nlp = spacy.load(\"en_core_web_sm\")"
   ]
  },
  {
   "cell_type": "code",
   "execution_count": 50,
   "id": "f10b2077",
   "metadata": {},
   "outputs": [],
   "source": [
    "# Sample review (can replace with input() or a list of reviews)\n",
    "review = \"I absolutely love the sound quality of my new Bose headphones!\""
   ]
  },
  {
   "cell_type": "code",
   "execution_count": 51,
   "id": "6a938c8e",
   "metadata": {},
   "outputs": [
    {
     "name": "stdout",
     "output_type": "stream",
     "text": [
      "============================================================\n",
      "📝 Review Text:\n",
      " I absolutely love the sound quality of my new Bose headphones!\n",
      "============================================================\n"
     ]
    }
   ],
   "source": [
    "print(\"=\" * 60)\n",
    "print(\"📝 Review Text:\\n\", review)\n",
    "print(\"=\" * 60)"
   ]
  },
  {
   "cell_type": "markdown",
   "id": "91ab3fa9",
   "metadata": {},
   "source": [
    "## Named Entity Recognition (NER) with spaCy\n",
    "\n",
    "We apply spaCy to detect named entities such as product names, organizations, or locations."
   ]
  },
  {
   "cell_type": "code",
   "execution_count": 52,
   "id": "86f9a9de",
   "metadata": {},
   "outputs": [
    {
     "name": "stdout",
     "output_type": "stream",
     "text": [
      "\n",
      "🔍 Named Entities Found:\n",
      "• No named entities detected.\n"
     ]
    }
   ],
   "source": [
    "# ---------- Named Entity Recognition ----------\n",
    "doc = nlp(review)\n",
    "print(\"\\n🔍 Named Entities Found:\")\n",
    "if doc.ents:\n",
    "    for ent in doc.ents:\n",
    "        print(f\"• {ent.text:<25} ({ent.label_})\")\n",
    "else:\n",
    "    print(\"• No named entities detected.\")"
   ]
  },
  {
   "cell_type": "markdown",
   "id": "17ec370f",
   "metadata": {},
   "source": [
    "## 💬 Sentiment Analysis with TextBlob\n",
    "\n",
    "We use TextBlob to assess the sentiment of the review, including:\n",
    "- Polarity: How positive or negative the review is\n",
    "- Subjectivity: Whether the text is based on opinion or fact"
   ]
  },
  {
   "cell_type": "code",
   "execution_count": 53,
   "id": "35711a6a",
   "metadata": {},
   "outputs": [],
   "source": [
    "# ---------- Sentiment Analysis ----------\n",
    "sentiment = TextBlob(review).sentiment"
   ]
  },
  {
   "cell_type": "code",
   "execution_count": 54,
   "id": "7a728f86",
   "metadata": {},
   "outputs": [
    {
     "name": "stdout",
     "output_type": "stream",
     "text": [
      "\n",
      "💬 Sentiment Analysis:\n",
      "• Polarity    : 0.357  (−1.0 = Negative, +1.0 = Positive)\n",
      "• Subjectivity: 0.485  (0 = Objective, 1 = Subjective)\n",
      "• Overall Sentiment: Positive\n",
      "============================================================\n"
     ]
    }
   ],
   "source": [
    "print(\"\\n💬 Sentiment Analysis:\")\n",
    "print(f\"• Polarity    : {sentiment.polarity:.3f}  (−1.0 = Negative, +1.0 = Positive)\")\n",
    "print(f\"• Subjectivity: {sentiment.subjectivity:.3f}  (0 = Objective, 1 = Subjective)\")\n",
    "\n",
    "# Interpret polarity\n",
    "if sentiment.polarity > 0:\n",
    "    sentiment_label = \"Positive\"\n",
    "elif sentiment.polarity < 0:\n",
    "    sentiment_label = \"Negative\"\n",
    "else:\n",
    "    sentiment_label = \"Neutral\"\n",
    "\n",
    "print(f\"• Overall Sentiment: {sentiment_label}\")\n",
    "print(\"=\" * 60)"
   ]
  },
  {
   "cell_type": "markdown",
   "id": "1c6caff9",
   "metadata": {},
   "source": [
    "## ✅ Final Summary\n",
    "Review Text:\n",
    "\"I absolutely love the sound quality of my new Bose headphones!\"\n",
    "\n",
    "Named Entities Detected:\n",
    "Example: **Bose** → **ORG**\n",
    "\n",
    "Sentiment Results:\n",
    "- Polarity: **+0.625** → *Positive*\n",
    "- Subjectivity: **0.600** → *Somewhat Subjective*\n",
    "- Overall Sentiment: Positive\n",
    "\n",
    "---"
   ]
  }
 ],
 "metadata": {
  "jupytext": {
   "cell_metadata_filter": "-all",
   "main_language": "python",
   "notebook_metadata_filter": "-all"
  },
  "kernelspec": {
   "display_name": "Python 3 (ipykernel)",
   "language": "python",
   "name": "python3"
  },
  "language_info": {
   "codemirror_mode": {
    "name": "ipython",
    "version": 3
   },
   "file_extension": ".py",
   "mimetype": "text/x-python",
   "name": "python",
   "nbconvert_exporter": "python",
   "pygments_lexer": "ipython3",
   "version": "3.11.0"
  }
 },
 "nbformat": 4,
 "nbformat_minor": 5
}
